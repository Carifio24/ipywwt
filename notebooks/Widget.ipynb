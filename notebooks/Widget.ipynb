{
 "cells": [
  {
   "cell_type": "code",
   "execution_count": 1,
   "id": "initial_id",
   "metadata": {
    "ExecuteTime": {
     "end_time": "2025-03-04T18:46:12.197378Z",
     "start_time": "2025-03-04T18:46:12.132137Z"
    }
   },
   "outputs": [],
   "source": [
    "from ipywwt import WWTWidget\n",
    "from astropy.table import Table\n",
    "from io import StringIO\n",
    "import re\n",
    "from astropy.coordinates import SkyCoord\n",
    "import astropy.units as u\n",
    "\n",
    "import warnings\n",
    "from base64 import b64encode"
   ]
  },
  {
   "cell_type": "code",
   "execution_count": 2,
   "id": "ae3036d4-c215-4df3-af61-979360973c8e",
   "metadata": {},
   "outputs": [
    {
     "data": {
      "application/vnd.jupyter.widget-view+json": {
       "model_id": "b7f17d4e29ab486c8dc268d123c15c6a",
       "version_major": 2,
       "version_minor": 1
      },
      "text/plain": [
       "WWTWidget()"
      ]
     },
     "execution_count": 2,
     "metadata": {},
     "output_type": "execute_result"
    }
   ],
   "source": [
    "wwt_viewer = WWTWidget()\n",
    "wwt_viewer"
   ]
  },
  {
   "cell_type": "code",
   "execution_count": 3,
   "id": "1b4cc75e-fb63-4127-9a7e-11e85af9d835",
   "metadata": {},
   "outputs": [
    {
     "data": {
      "text/plain": [
       "<SkyCoord (ICRS): (ra, dec) in deg\n",
       "    (0., 0.)>"
      ]
     },
     "execution_count": 3,
     "metadata": {},
     "output_type": "execute_result"
    }
   ],
   "source": [
    "wwt_viewer.get_center()"
   ]
  },
  {
   "cell_type": "code",
   "execution_count": 3,
   "id": "4930d33d05b03393",
   "metadata": {
    "ExecuteTime": {
     "end_time": "2025-03-04T17:54:56.051041Z",
     "start_time": "2025-03-04T17:54:56.049047Z"
    }
   },
   "outputs": [],
   "source": [
    "wwt_viewer.center_on_coordinates(SkyCoord(285.0130833333333 * u.deg, 40.22075 * u.deg), 100.0 * u.deg)"
   ]
  },
  {
   "cell_type": "code",
   "execution_count": 4,
   "id": "5cf01351-6669-4e8e-bf54-1c3a12df31ee",
   "metadata": {},
   "outputs": [
    {
     "data": {
      "text/plain": [
       "[]"
      ]
     },
     "execution_count": 4,
     "metadata": {},
     "output_type": "execute_result"
    }
   ],
   "source": [
    "wwt_viewer._commands"
   ]
  },
  {
   "cell_type": "code",
   "execution_count": 5,
   "id": "b8a9beaf33770692",
   "metadata": {},
   "outputs": [],
   "source": [
    "OEC = 'https://worldwidetelescope.github.io/pywwt/data/open_exoplanet_catalogue.csv'\n",
    "table = Table.read(OEC, delimiter=',', format='ascii.basic')\n",
    "\n",
    "layer = wwt_viewer.layers.add_table_layer(frame='Sky', table=table, lon_att=\"ra\", lat_att=\"dec\")\n",
    "# layer.size_scale = 200\n",
    "# layer.type = \"gaussian\"\n",
    "# layer.color = \"#00FF00\""
   ]
  },
  {
   "cell_type": "code",
   "execution_count": 6,
   "id": "14cdffbb-485f-4650-920e-77b3fb6270af",
   "metadata": {},
   "outputs": [
    {
     "data": {
      "text/plain": [
       "[]"
      ]
     },
     "execution_count": 6,
     "metadata": {},
     "output_type": "execute_result"
    }
   ],
   "source": [
    "wwt_viewer._commands"
   ]
  },
  {
   "cell_type": "code",
   "execution_count": 7,
   "id": "1f7c69ff-b573-4362-b85a-da7dcf81ad72",
   "metadata": {},
   "outputs": [],
   "source": [
    "layer.color = \"#00FF00\""
   ]
  },
  {
   "cell_type": "code",
   "execution_count": 8,
   "id": "67ec23fb-9f2d-4e0e-a0df-6def0c0d25b4",
   "metadata": {},
   "outputs": [],
   "source": [
    "layer.size_scale = 300"
   ]
  },
  {
   "cell_type": "code",
   "execution_count": 9,
   "id": "80c30a48-63bb-463b-bae9-2e425d279bea",
   "metadata": {},
   "outputs": [
    {
     "data": {
      "application/vnd.jupyter.widget-view+json": {
       "model_id": "d09f58f34f1f438888f1105faea38e7a",
       "version_major": 2,
       "version_minor": 1
      },
      "text/plain": [
       "WWTWidget()"
      ]
     },
     "execution_count": 9,
     "metadata": {},
     "output_type": "execute_result"
    }
   ],
   "source": [
    "wwt_viewer2 = WWTWidget()\n",
    "wwt_viewer2"
   ]
  },
  {
   "cell_type": "code",
   "execution_count": 10,
   "id": "5d619ab1-dac8-49df-b2cf-965ce5999947",
   "metadata": {},
   "outputs": [],
   "source": [
    "wwt_viewer2.center_on_coordinates(SkyCoord(283 * u.deg, 47 * u.deg), 100.0 * u.deg)"
   ]
  },
  {
   "cell_type": "code",
   "execution_count": null,
   "id": "9edf4ab1-c16d-4a71-bbaf-9119f8e0083d",
   "metadata": {},
   "outputs": [],
   "source": []
  },
  {
   "cell_type": "code",
   "execution_count": null,
   "id": "adff8b6e-3c91-40d6-83e5-d05cbbbef687",
   "metadata": {},
   "outputs": [],
   "source": []
  }
 ],
 "metadata": {
  "kernelspec": {
   "display_name": "Python 3 (ipykernel)",
   "language": "python",
   "name": "python3"
  },
  "language_info": {
   "codemirror_mode": {
    "name": "ipython",
    "version": 3
   },
   "file_extension": ".py",
   "mimetype": "text/x-python",
   "name": "python",
   "nbconvert_exporter": "python",
   "pygments_lexer": "ipython3",
   "version": "3.13.2"
  }
 },
 "nbformat": 4,
 "nbformat_minor": 5
}
