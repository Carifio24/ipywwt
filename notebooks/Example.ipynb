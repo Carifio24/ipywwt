{
 "cells": [
  {
   "cell_type": "code",
   "execution_count": 2,
   "id": "18c83c16-1d34-4896-80db-4033ca98dc83",
   "metadata": {},
   "outputs": [],
   "source": [
    "from ipywwt import WWTWidget"
   ]
  },
  {
   "cell_type": "code",
   "execution_count": 3,
   "id": "4969cc5a-0a67-49cf-b9b2-6213807b1a07",
   "metadata": {
    "scrolled": true
   },
   "outputs": [
    {
     "data": {
      "application/vnd.jupyter.widget-view+json": {
       "model_id": "fbca3549f1984ede87b87e8981547782",
       "version_major": 2,
       "version_minor": 0
      },
      "text/plain": [
       "WWTWidget()"
      ]
     },
     "execution_count": 3,
     "metadata": {},
     "output_type": "execute_result"
    }
   ],
   "source": [
    "wwt1 = WWTWidget()\n",
    "wwt1"
   ]
  },
  {
   "cell_type": "code",
   "execution_count": 4,
   "id": "96d8b6f3",
   "metadata": {},
   "outputs": [
    {
     "data": {
      "application/vnd.jupyter.widget-view+json": {
       "model_id": "df26fe9078bc49219d04f5935bb93c87",
       "version_major": 2,
       "version_minor": 0
      },
      "text/plain": [
       "WWTWidget()"
      ]
     },
     "execution_count": 4,
     "metadata": {},
     "output_type": "execute_result"
    }
   ],
   "source": [
    "wwt2 = WWTWidget()\n",
    "wwt2"
   ]
  },
  {
   "cell_type": "code",
   "execution_count": null,
   "id": "00c0072f",
   "metadata": {},
   "outputs": [],
   "source": []
  }
 ],
 "metadata": {
  "kernelspec": {
   "display_name": "Python 3 (ipykernel)",
   "language": "python",
   "name": "python3"
  },
  "language_info": {
   "codemirror_mode": {
    "name": "ipython",
    "version": 3
   },
   "file_extension": ".py",
   "mimetype": "text/x-python",
   "name": "python",
   "nbconvert_exporter": "python",
   "pygments_lexer": "ipython3",
   "version": "3.11.3"
  }
 },
 "nbformat": 4,
 "nbformat_minor": 5
}
