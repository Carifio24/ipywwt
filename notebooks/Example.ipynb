{
 "cells": [
  {
   "cell_type": "code",
   "execution_count": null,
   "id": "18c83c16-1d34-4896-80db-4033ca98dc83",
   "metadata": {},
   "outputs": [],
   "source": [
    "from ipywwt import WWTWidget\n",
    "from astropy.table import Table\n",
    "from astropy.coordinates import SkyCoord\n",
    "import astropy.units as u\n",
    "from time import sleep"
   ]
  },
  {
   "cell_type": "code",
   "execution_count": null,
   "id": "dfe314ae-6486-449c-aa73-cdf1b54db29c",
   "metadata": {
    "scrolled": false
   },
   "outputs": [],
   "source": [
    "import ipywidgets\n",
    "\n",
    "output = ipywidgets.Output()\n",
    "\n",
    "@output.capture()\n",
    "def on_msg(_widget, msg, buffers):\n",
    "    pretty_msg = msg\n",
    "    for k,v in msg.items():\n",
    "        if isinstance(v, list):\n",
    "            pretty_msg[k] = v[:2]\n",
    "        elif isinstance(v,str) and (len(v) > 80):\n",
    "            pretty_msg[k] = v[:80]\n",
    "    print(f'Received: {(pretty_msg)}')\n",
    "\n",
    "@output.capture()\n",
    "def wwt_cb(wwt, updated):\n",
    "    print(updated)\n",
    "\n",
    "@output.capture()\n",
    "def ready():\n",
    "    print('ready')\n",
    "\n",
    "wwt1 = WWTWidget()\n",
    "\n",
    "\n",
    "# Setup the view\n",
    "wwt1.background = \"USNOB: US Naval Observatory B 1.0 (Synthetic, Optical)\"\n",
    "wwt1.foreground = \"SDSS: Sloan Digital Sky Survey (Optical)\"\n",
    "wwt1.center_on_coordinates(SkyCoord(285.0130833333333 * u.deg,40.22075 * u.deg), instant=True)\n",
    "\n",
    "\n",
    "def add_layer():\n",
    "    \"\"\"\n",
    "    layers will only be added after the app is mounted. \n",
    "    They also seem to need a bit more time, otherwise sometimes\n",
    "        it will not show up.\n",
    "    \"\"\"\n",
    "    sleep(.1)\n",
    "    OEC = '/Applications/John/github/minids/radwave/src/assets/radwave/RW_cluster_oscillation_0_updated_radec.csv'\n",
    "\n",
    "    table = Table.read(OEC, delimiter=',', format='ascii.basic')\n",
    "\n",
    "    layer = wwt1.layers.add_table_layer(table=table, frame='Sky',\n",
    "                               lon_att='ra', lat_att='dec')\n",
    "    layer.size_scale = 200\n",
    "    layer.type = \"gaussian\"\n",
    "    layer.color = \"#00FF00\"\n",
    "    \n",
    "    \n",
    "\n",
    "\n",
    "# on ready is the first thing run after queued messages\n",
    "wwt1.on_ready(ready)\n",
    "\n",
    "# then callbacks added after are run in order. These Callbacks take no parameters. \n",
    "wwt1.ensure_mounted(add_layer)\n",
    "# wwt1.ensure_mounted(style_layer)\n",
    "\n",
    "\n",
    "wwt1.on_msg(on_msg)\n",
    "wwt1.set_selection_change_callback(wwt_cb)\n",
    "\n",
    "# wwt1.on_msg(lambda w, m, b: wwt1._on_app_message_received(m, b))\n",
    "    \n",
    "\n",
    "ipywidgets.VBox([wwt1, output])"
   ]
  },
  {
   "cell_type": "code",
   "execution_count": null,
   "id": "cf608646-42b2-4489-8201-6f7cb439f268",
   "metadata": {},
   "outputs": [],
   "source": []
  }
 ],
 "metadata": {
  "kernelspec": {
   "display_name": "Python 3 (ipykernel)",
   "language": "python",
   "name": "python3"
  },
  "language_info": {
   "codemirror_mode": {
    "name": "ipython",
    "version": 3
   },
   "file_extension": ".py",
   "mimetype": "text/x-python",
   "name": "python",
   "nbconvert_exporter": "python",
   "pygments_lexer": "ipython3",
   "version": "3.9.17"
  }
 },
 "nbformat": 4,
 "nbformat_minor": 5
}
