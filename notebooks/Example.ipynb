{
 "cells": [
  {
   "cell_type": "code",
   "execution_count": 1,
   "id": "18c83c16-1d34-4896-80db-4033ca98dc83",
   "metadata": {},
   "outputs": [
    {
     "name": "stderr",
     "output_type": "stream",
     "text": [
      "/home/jon/opt/mambaforge/envs/cosmicds-ipywwt/lib/python3.9/site-packages/anywidget/_util.py:251: UserWarning: anywidget: Live-reloading feature is disabled. To enable, please install the 'watchfiles' package.\n",
      "  start_thread=_should_start_thread(path),\n"
     ]
    }
   ],
   "source": [
    "from ipywwt import WWTWidget\n",
    "from astropy.table import Table\n",
    "from astropy.coordinates import SkyCoord\n",
    "import astropy.units as u\n",
    "from time import sleep"
   ]
  },
  {
   "cell_type": "code",
   "execution_count": 3,
   "id": "dfe314ae-6486-449c-aa73-cdf1b54db29c",
   "metadata": {},
   "outputs": [
    {
     "name": "stdout",
     "output_type": "stream",
     "text": [
      "HERE\n",
      "In run\n",
      "Is it ready yet?\n",
      "Alive: False\n",
      "False\n",
      "Returning from _check_ready\n",
      "In run\n",
      "Is it ready yet?\n",
      "Alive: False\n",
      "False\n",
      "Returning from _check_ready\n",
      "In run\n",
      "Is it ready yet?\n",
      "Alive: False\n",
      "False\n",
      "Returning from _check_ready\n",
      "In run\n",
      "Is it ready yet?\n",
      "Alive: False\n",
      "False\n",
      "Returning from _check_ready\n",
      "In run\n",
      "Is it ready yet?\n",
      "Alive: False\n",
      "False\n",
      "Returning from _check_ready\n",
      "In run\n",
      "Is it ready yet?\n",
      "Alive: False\n",
      "False\n",
      "Returning from _check_ready\n",
      "In run\n",
      "Is it ready yet?\n",
      "Alive: False\n",
      "False\n",
      "Returning from _check_ready\n",
      "In run\n",
      "Is it ready yet?\n",
      "Alive: False\n",
      "False\n",
      "Returning from _check_ready\n",
      "In run\n",
      "Is it ready yet?\n",
      "Alive: False\n",
      "False\n",
      "Returning from _check_ready\n",
      "In run\n",
      "Is it ready yet?\n",
      "Alive: False\n",
      "False\n",
      "Returning from _check_ready\n",
      "In run\n",
      "Is it ready yet?\n",
      "Alive: False\n",
      "False\n",
      "Returning from _check_ready\n"
     ]
    }
   ],
   "source": [
    "import ipywidgets\n",
    "\n",
    "output = ipywidgets.Output()\n",
    "\n",
    "@output.capture()\n",
    "def on_msg(_widget, msg, buffers):\n",
    "    pretty_msg = msg\n",
    "    for k,v in msg.items():\n",
    "        if isinstance(v, list):\n",
    "            pretty_msg[k] = v[:2]\n",
    "        elif isinstance(v,str) and (len(v) > 80):\n",
    "            pretty_msg[k] = v[:80]\n",
    "    print(f'Received: {(pretty_msg)}')\n",
    "\n",
    "@output.capture()\n",
    "def wwt_cb(wwt, updated):\n",
    "    print(updated)\n",
    "\n",
    "@output.capture()\n",
    "def ready():\n",
    "    print('ready')\n",
    "\n",
    "wwt1 = WWTWidget()\n",
    "\n",
    "wwt1.on_ready(ready)\n",
    "\n",
    "\n",
    "# Setup the view\n",
    "# wwt1.background = \"USNOB: US Naval Observatory B 1.0 (Synthetic, Optical)\"\n",
    "# wwt1.foreground = \"SDSS: Sloan Digital Sky Survey (Optical)\"\n",
    "# wwt1.center_on_coordinates(SkyCoord(285.0130833333333 * u.deg,40.22075 * u.deg), instant=True)\n",
    "\n",
    "\n",
    "# def add_layer():\n",
    "#     \"\"\"\n",
    "#     layers will only be added after the app is mounted. \n",
    "#     They also seem to need a bit more time, otherwise sometimes\n",
    "#         it will not show up.\n",
    "#     \"\"\"\n",
    "#     sleep(.1)\n",
    "#     OEC = '/Applications/John/github/minids/radwave/src/assets/radwave/RW_cluster_oscillation_0_updated_radec.csv'\n",
    "\n",
    "#     table = Table.read(OEC, delimiter=',', format='ascii.basic')\n",
    "\n",
    "#     layer = wwt1.layers.add_table_layer(table=table, frame='Sky',\n",
    "#                                lon_att='ra', lat_att='dec')\n",
    "#     layer.size_scale = 200\n",
    "#     layer.type = \"gaussian\"\n",
    "#     layer.color = \"#00FF00\"\n",
    "    \n",
    "    \n",
    "\n",
    "\n",
    "# # on ready is the first thing run after queued messages\n",
    "# wwt1.on_ready(ready)\n",
    "\n",
    "# # then callbacks added after are run in order. These Callbacks take no parameters. \n",
    "# wwt1.on_ready(add_layer)\n",
    "# # wwt1.ensure_mounted(style_layer)\n",
    "\n",
    "\n",
    "# wwt1.on_msg(on_msg)\n",
    "# wwt1.set_selection_change_callback(wwt_cb)\n",
    "\n",
    "# # wwt1.on_msg(lambda w, m, b: wwt1._on_app_message_received(m, b))\n",
    "    \n",
    "\n",
    "# ipywidgets.VBox([wwt1, output])"
   ]
  },
  {
   "cell_type": "code",
   "execution_count": 4,
   "id": "96647f84-eb9d-4298-b6ce-ca80c7e6d646",
   "metadata": {},
   "outputs": [
    {
     "data": {
      "application/vnd.jupyter.widget-view+json": {
       "model_id": "bf5954c662cd48bd9e9d283a5b5047c5",
       "version_major": 2,
       "version_minor": 0
      },
      "text/plain": [
       "WWTWidget(layout=Layout(align_self='stretch', height='400px'))"
      ]
     },
     "execution_count": 4,
     "metadata": {},
     "output_type": "execute_result"
    },
    {
     "name": "stdout",
     "output_type": "stream",
     "text": [
      "In run\n",
      "Is it ready yet?\n",
      "Alive: False\n",
      "False\n",
      "Returning from _check_ready\n"
     ]
    }
   ],
   "source": [
    "wwt1"
   ]
  },
  {
   "cell_type": "code",
   "execution_count": 7,
   "id": "a9034242-fe83-4b2e-98aa-a4f01a5c2e9a",
   "metadata": {},
   "outputs": [
    {
     "data": {
      "text/plain": [
       "1705526413.275205"
      ]
     },
     "execution_count": 7,
     "metadata": {},
     "output_type": "execute_result"
    },
    {
     "name": "stdout",
     "output_type": "stream",
     "text": [
      "In run\n",
      "Is it ready yet?\n",
      "Alive: False\n",
      "False\n",
      "Returning from _check_ready\n",
      "In run\n",
      "Is it ready yet?\n",
      "Alive: False\n",
      "False\n",
      "Returning from _check_ready\n",
      "In run\n",
      "Is it ready yet?\n",
      "Alive: False\n",
      "False\n",
      "Returning from _check_ready\n",
      "In run\n",
      "Is it ready yet?\n",
      "Alive: False\n",
      "False\n",
      "Returning from _check_ready\n",
      "In run\n",
      "Is it ready yet?\n",
      "Alive: False\n",
      "False\n",
      "Returning from _check_ready\n",
      "In run\n",
      "Is it ready yet?\n",
      "Alive: False\n",
      "False\n",
      "Returning from _check_ready\n",
      "In run\n",
      "Is it ready yet?\n",
      "Alive: False\n",
      "False\n",
      "Returning from _check_ready\n"
     ]
    }
   ],
   "source": [
    "wwt1._last_pong_timestamp"
   ]
  },
  {
   "cell_type": "code",
   "execution_count": null,
   "id": "e9e82016-f7a6-4ebc-9eb3-a8ac94e03bbe",
   "metadata": {},
   "outputs": [],
   "source": []
  }
 ],
 "metadata": {
  "kernelspec": {
   "display_name": "cosmicds-ipywwt",
   "language": "python",
   "name": "cosmicds-ipywwt"
  },
  "language_info": {
   "codemirror_mode": {
    "name": "ipython",
    "version": 3
   },
   "file_extension": ".py",
   "mimetype": "text/x-python",
   "name": "python",
   "nbconvert_exporter": "python",
   "pygments_lexer": "ipython3",
   "version": "3.9.18"
  }
 },
 "nbformat": 4,
 "nbformat_minor": 5
}
