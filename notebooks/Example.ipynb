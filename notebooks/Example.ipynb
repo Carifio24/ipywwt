{
 "cells": [
  {
   "cell_type": "code",
   "execution_count": 1,
   "id": "18c83c16-1d34-4896-80db-4033ca98dc83",
   "metadata": {},
   "outputs": [],
   "source": [
    "from ipywwt import WWTWidget"
   ]
  },
  {
   "cell_type": "code",
   "execution_count": 2,
   "id": "dfe314ae-6486-449c-aa73-cdf1b54db29c",
   "metadata": {},
   "outputs": [
    {
     "data": {
      "application/vnd.jupyter.widget-view+json": {
       "model_id": "4fcd34da671343fa87ed3f3bf2fe535b",
       "version_major": 2,
       "version_minor": 0
      },
      "text/plain": [
       "VBox(children=(WWTWidget(), Output()))"
      ]
     },
     "execution_count": 2,
     "metadata": {},
     "output_type": "execute_result"
    }
   ],
   "source": [
    "import ipywidgets\n",
    "\n",
    "output = ipywidgets.Output()\n",
    "\n",
    "# @output.capture()\n",
    "# def on_msg(_widget, msg, buffers):\n",
    "#     print(f'Received: {type(msg)}')\n",
    "\n",
    "@output.capture()\n",
    "def wwt_cb(wwt, updated):\n",
    "    print(updated)\n",
    "\n",
    "wwt1 = WWTWidget()\n",
    "\n",
    "# wwt1.on_msg(on_msg)\n",
    "wwt1.set_selection_change_callback(wwt_cb)\n",
    "\n",
    "# wwt1.on_msg(lambda w, m, b: wwt1._on_app_message_received(m, b))\n",
    "    \n",
    "\n",
    "ipywidgets.VBox([wwt1, output])"
   ]
  },
  {
   "cell_type": "code",
   "execution_count": 3,
   "id": "824eab7a-4120-49cc-bf06-f8e28b1d6373",
   "metadata": {},
   "outputs": [
    {
     "data": {
      "text/plain": [
       "<TableLayer with 89 markers>"
      ]
     },
     "execution_count": 3,
     "metadata": {},
     "output_type": "execute_result"
    }
   ],
   "source": [
    "from astropy.table import Table\n",
    "OEC = '/Users/nmearl/Downloads/RW_cluster_oscillation_0_updated_radec.csv'\n",
    "table = Table.read(OEC, delimiter=',', format='ascii.basic')\n",
    "\n",
    "wwt1.layers.add_table_layer(table=table, frame='Sky',\n",
    "                           lon_att='ra', lat_att='dec')"
   ]
  },
  {
   "cell_type": "code",
   "execution_count": 4,
   "id": "83a11c14-1eb7-421c-9899-775734dcc560",
   "metadata": {},
   "outputs": [],
   "source": [
    "wwt1.layers[0].size_scale = 100\n",
    "wwt1.layers[0].type = \"gaussian\"\n",
    "wwt1.layers[0].color = \"#00FF00\""
   ]
  },
  {
   "cell_type": "code",
   "execution_count": 6,
   "id": "a0616558-9e2f-4d1b-8c2d-8847256ddb9f",
   "metadata": {},
   "outputs": [
    {
     "data": {
      "text/latex": [
       "$28.697814 \\; \\mathrm{{}^{\\circ}}$"
      ],
      "text/plain": [
       "<Quantity 28.69781401 deg>"
      ]
     },
     "execution_count": 6,
     "metadata": {},
     "output_type": "execute_result"
    }
   ],
   "source": [
    "wwt1.get_fov()"
   ]
  },
  {
   "cell_type": "code",
   "execution_count": 11,
   "id": "27e74544-09b1-483f-b905-8b0d091e0a16",
   "metadata": {},
   "outputs": [
    {
     "data": {
      "application/vnd.jupyter.widget-view+json": {
       "model_id": "a46ad6dfc9f94916a2a70d57df13ce00",
       "version_major": 2,
       "version_minor": 0
      },
      "text/plain": [
       "Layout()"
      ]
     },
     "execution_count": 11,
     "metadata": {},
     "output_type": "execute_result"
    }
   ],
   "source": []
  },
  {
   "cell_type": "code",
   "execution_count": null,
   "id": "9b35f180-1d5e-4997-a02f-410ab621efa9",
   "metadata": {},
   "outputs": [],
   "source": [
    "from astropy.coordinates import SkyCoord\n",
    "import astropy.units as u\n",
    "# wwt1.center_on_coordinates(SkyCoord.from_name('Andromeda'), instant=True)\n",
    "wwt1.center_on_coordinates(SkyCoord(285.0130833333333 * u.deg,40.22075 * u.deg), instant=True)\n",
    "# wwt1.center_on_coordinates(SkyCoord(180 * u.deg, 25 * u.deg, frame='icrs'))"
   ]
  },
  {
   "cell_type": "code",
   "execution_count": null,
   "id": "c539e8eb-4b98-4051-8ee5-5696cf0ea948",
   "metadata": {},
   "outputs": [],
   "source": [
    "# wwt1.background = \"WMAP ILC 5-Year Cosmic Microwave Background\"\n",
    "wwt1.background = \"SDSS: Sloan Digital Sky Survey (Optical)\"\n",
    "wwt1.foreground = \"SDSS: Sloan Digital Sky Survey (Optical)\""
   ]
  },
  {
   "cell_type": "code",
   "execution_count": null,
   "id": "96d8b6f3",
   "metadata": {},
   "outputs": [],
   "source": [
    "wwt2 = WWTWidget()\n",
    "wwt2"
   ]
  },
  {
   "cell_type": "code",
   "execution_count": null,
   "id": "80d8e319-508a-4291-a246-0099d0ae9bf8",
   "metadata": {},
   "outputs": [],
   "source": [
    "wwt1.layers[0].id"
   ]
  },
  {
   "cell_type": "code",
   "execution_count": null,
   "id": "cf608646-42b2-4489-8201-6f7cb439f268",
   "metadata": {},
   "outputs": [],
   "source": []
  }
 ],
 "metadata": {
  "kernelspec": {
   "display_name": "Python 3 (ipykernel)",
   "language": "python",
   "name": "python3"
  },
  "language_info": {
   "codemirror_mode": {
    "name": "ipython",
    "version": 3
   },
   "file_extension": ".py",
   "mimetype": "text/x-python",
   "name": "python",
   "nbconvert_exporter": "python",
   "pygments_lexer": "ipython3",
   "version": "3.11.3"
  }
 },
 "nbformat": 4,
 "nbformat_minor": 5
}
